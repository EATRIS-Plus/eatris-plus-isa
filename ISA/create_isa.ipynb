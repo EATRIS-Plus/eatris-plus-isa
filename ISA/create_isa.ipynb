{
 "cells": [
  {
   "cell_type": "markdown",
   "metadata": {},
   "source": [
    "Create ISA objects for EATRIS-Plus multi-omics data set of Czech population cohort"
   ]
  },
  {
   "cell_type": "markdown",
   "metadata": {},
   "source": [
    "Define ontology references"
   ]
  },
  {
   "cell_type": "code",
   "execution_count": 1,
   "metadata": {},
   "outputs": [],
   "source": [
    "from isatools.model import *\n",
    "ontologies = {\n",
    "    \"CHEBI\": OntologySource(\n",
    "        name = \"CHEBI - Chemical Entities of Biological Interest\", \n",
    "        file = \"http://purl.obolibrary.org/obo/chebi.owl\",\n",
    "        description = \"A structured classification of molecular entities of biological interest focusing on 'small' chemical compounds.\"), \n",
    "    \"CRO\": OntologySource(\n",
    "        # The Contributor Role Ontology (CRO) is an extension of the CASRAI Contributor Roles Taxonomy (CRediT) and replaces the former Contribution Ontology.\n",
    "        name = \"CRO - Contributor Role Ontology\",\n",
    "        file = \"http://purl.obolibrary.org/obo/cro.owl\",\n",
    "        description = \"A classification of the diverse roles performed in the work leading to a published research output in the sciences. Its purpose to provide transparency in contributions to scholarly published work, to enable improved systems of attribution, credit, and accountability.\"),\n",
    "    \"EFO\": OntologySource(\n",
    "        name = \"EFO - Experimental Factor Ontology\", \n",
    "        file = \"http://www.ebi.ac.uk/efo/efo.owl\",\n",
    "        description = \"The Experimental Factor Ontology (EFO) provides a systematic description of many experimental variables available in EBI databases, and for external projects such as the NHGRI GWAS catalogue. It combines parts of several biological ontologies, such as anatomy, disease and chemical compounds. The scope of EFO is to support the annotation, analysis and visualization of data handled by many groups at the EBI and as the core ontology for OpenTargets.org\"), \n",
    "    \"MMO\": OntologySource(\n",
    "        name = \"MMO - Measurement method ontology\", \n",
    "        file = \"http://purl.obolibrary.org/obo/mmo.owl\",\n",
    "        description = \"A representation of the variety of methods used to make clinical and phenotype measurements.\"),\n",
    "    \"NCBITAXON\": OntologySource(\n",
    "        name = \"NCBI organismal classification\", \n",
    "        file = \"http://purl.obolibrary.org/obo/ncbitaxon.owl\",\n",
    "        description = \"An ontology representation of the NCBI organismal taxonomy\"),\n",
    "    \"NCIT\": OntologySource(\n",
    "        name = \"NCI Thesaurus OBO Edition\", \n",
    "        file = \"http://purl.obolibrary.org/obo/ncit.owl\",\n",
    "        description = \"The NCIt OBO Edition project aims to increase integration of the NCIt with OBO Library ontologies. NCIt is a reference terminology that includes broad coverage of the cancer domain, including cancer related diseases, findings and abnormalities. NCIt OBO Edition releases should be considered experimental.\"),\n",
    "    \"OBI\": OntologySource(\n",
    "        name = \"OBI - Ontology for Biomedical Investigations\", \n",
    "        file = \"http://purl.obolibrary.org/obo/obi.owl\",\n",
    "        description = \"An integrated ontology for the description of life-science and clinical investigations\"),\n",
    "    \"OMIABIS\": OntologySource(\n",
    "        name = \"Ontologized MIABIS\", \n",
    "        file = \"http://purl.obolibrary.org/obo/omiabis.owl\",\n",
    "        description = \"An ontological version of MIABIS (Minimum Information About BIobank data Sharing)\"),\n",
    "    \"PRIDE\": OntologySource(\n",
    "        name = \"PRIDE Controlled Vocabulary\",\n",
    "        file = \"http://purl.obolibrary.org/obo/pride_cv.obo\",\n",
    "        description = \"The PRIDE PRoteomics IDEntifications (PRIDE) database is a centralized, standards compliant, public data repository for proteomics data, including protein and peptide identifications, post-translational modifications and supporting spectral evidence.\"),\n",
    "    \"REX\": OntologySource(\n",
    "        name = \"REX - Physico-chemical process\",\n",
    "        file = \"http://purl.obolibrary.org/obo/rex.owl\",\n",
    "        description = \"An ontology of physico-chemical processes, i.e. physico-chemical changes occurring in course of time.\"),\n",
    "    \"STATO\": OntologySource(\n",
    "        name = \"STATO: the statistical methods ontology\",\n",
    "        file = \"http://purl.obolibrary.org/obo/stato.owl\",\n",
    "        description = \"STATO is the statistical methods ontology. It contains concepts and properties related to statistical methods, probability distributions and other concepts related to statistical analysis, including relationships to study designs and plots.\")\n",
    "}"
   ]
  },
  {
   "cell_type": "markdown",
   "metadata": {},
   "source": [
    "Create investigation"
   ]
  },
  {
   "cell_type": "code",
   "execution_count": 2,
   "metadata": {},
   "outputs": [],
   "source": [
    "investigation = Investigation(\n",
    "    filename = \"i_investigation.txt\", \n",
    "    identifier = \"\", \n",
    "    title = \"EATRIS-Plus - Flagship in Personalised Medicine\",\n",
    "    description = \"EATRIS-Plus project aims to support the long-term sustainability of the European Research Infrastructure for Translational Medicine (EATRIS) by delivering innovative scientific tools to the research community, strengthening the EATRIS financial model, and reinforcing EATRIS’ leadership in the European Research Area in the field of Personalised Medicine (PM).\",\n",
    "    submission_date = \"\",\n",
    "    public_release_date = \"\",\n",
    "    ontology_source_references = [o for o in ontologies.values()],\n",
    "    publications = None,\n",
    "    contacts = [\n",
    "        Person(\n",
    "            last_name = \"Keidong\", \n",
    "            first_name = \"Eliis\",\n",
    "            #mid_initials = \"\",\n",
    "            affiliation = \"EATRIS\",\n",
    "            roles = [\n",
    "                OntologyAnnotation(\n",
    "                    term = \"project management role\",\n",
    "                    term_source = ontologies[\"CRO\"], \n",
    "                    term_accession =\"http://purl.obolibrary.org/obo/CRO_0000065\")])],\n",
    "    studies = None,\n",
    "    comments = None)"
   ]
  },
  {
   "cell_type": "markdown",
   "metadata": {},
   "source": [
    "Create study"
   ]
  },
  {
   "cell_type": "code",
   "execution_count": 3,
   "metadata": {},
   "outputs": [],
   "source": [
    "cohort_study = Study(\n",
    "    filename = \"s_study.txt\", \n",
    "    identifier = \"\", \n",
    "    title = \"Multi-omics data of a Czech population cohort\",\n",
    "    description = \"Multi-omics data of a Czech population cohort\", \n",
    "    submission_date = \"\", \n",
    "    public_release_date = \"\",\n",
    "    contacts = [\n",
    "        Person(\n",
    "            last_name = \"Hajdúch\", \n",
    "            first_name = \"Marian\",\n",
    "            #mid_initials = \"\",\n",
    "            affiliation = \"Institute of Molecular and Translational Medicine (IMTM), Palacký University Olomouc\")],\n",
    "    design_descriptors = [\n",
    "        OntologyAnnotation(\n",
    "                term = \"Multi-omics study\",\n",
    "                term_source = ontologies[\"PRIDE\"],\n",
    "                term_accession = \"http://purl.obolibrary.org/obo/PRIDE_0000461\"),\n",
    "        OntologyAnnotation(\n",
    "                term = \"population based study design\",\n",
    "                term_source = ontologies[\"OMIABIS\"],\n",
    "                term_accession = \"http://purl.obolibrary.org/obo/OMIABIS_0001022\")], \n",
    "    factors = None, \n",
    "    protocols = None,\n",
    "    assays = None,\n",
    "    sources = None,\n",
    "    samples = None,\n",
    "    process_sequence = None,\n",
    "    other_material = None,\n",
    "    characteristic_categories = None,\n",
    "    comments = None,\n",
    "    units = None)\n",
    "investigation.studies.append(cohort_study)"
   ]
  },
  {
   "cell_type": "markdown",
   "metadata": {},
   "source": [
    "Define protocols"
   ]
  },
  {
   "cell_type": "code",
   "execution_count": 4,
   "metadata": {},
   "outputs": [],
   "source": [
    "sample_collection_protocol = Protocol( \n",
    "    name = \"sample_collection_protocol\",\n",
    "    protocol_type = OntologyAnnotation(\n",
    "        term = \"sample collection\"\n",
    "        #term_source = ontologies[\"\"], \n",
    "        #term_accession = \"\"\n",
    "    )) "
   ]
  },
  {
   "cell_type": "markdown",
   "metadata": {},
   "source": [
    "Define assays"
   ]
  },
  {
   "cell_type": "code",
   "execution_count": 5,
   "metadata": {},
   "outputs": [],
   "source": [
    "assay_genomics_imtm = Assay(\n",
    "    filename = \"a_assay_genomics_imtm.txt\") \n",
    "assay_dnamethylation_uu = Assay(\n",
    "    filename = \"a_assay_dnamethylation_uu.txt\") \n",
    "assay_rnaseq_fimm = Assay(\n",
    "    filename = \"a_assay_rnaseq_fimm.txt\") \n",
    "assay_mirnaseq_fimm = Assay(\n",
    "    filename = \"a_assay_mirnaseq_fimm.txt\") \n",
    "assay_mirnaseq_sermas = Assay(\n",
    "    filename = \"a_assay_mirnaseq_sermas.txt\") \n",
    "assay_proteomics_imtm = Assay(\n",
    "    filename = \"a_assay_proteomics_imtm.txt\") \n",
    "assay_metabolomics_acylcarnitines_rumc = Assay(\n",
    "    filename = \"a_assay_metabolomics_acylcarnitines_rumc.txt\") \n",
    "assay_metabolomics_aminoacids_mumc = Assay(\n",
    "    filename = \"a_assay_metabolomics_aminoacids_mumc.txt\") \n",
    "assay_metabolomics_fattyacids_mumc = Assay(\n",
    "    filename = \"a_assay_metabolomics_fattyacids_mumc.txt\") "
   ]
  },
  {
   "cell_type": "code",
   "execution_count": 6,
   "metadata": {},
   "outputs": [],
   "source": [
    "# add dummy samples\n",
    "for source_idx in range(1, 4):\n",
    "    # create source (=individual)\n",
    "    source_name = \"individual_{0}\".format(source_idx)\n",
    "    source = Source(\n",
    "        name = source_name,\n",
    "        characteristics = [\n",
    "            Characteristic(\n",
    "                category = OntologyAnnotation(\n",
    "                    term = \"Organism\",\n",
    "                    term_source = ontologies[\"OBI\"],\n",
    "                    term_accession = \"http://purl.obolibrary.org/obo/OBI_0100026\"),\n",
    "                value = OntologyAnnotation(\n",
    "                    term = \"Homo sapiens\",\n",
    "                    term_source = ontologies[\"NCBITAXON\"],\n",
    "                    term_accession = \"http://purl.obolibrary.org/obo/NCBITaxon_9606\"))])\n",
    "    investigation.studies[0].sources.append(source)\n",
    "    # create sample\n",
    "    sample_name = \"sample_{0}\".format(source_idx)\n",
    "    sample = Sample(\n",
    "        name = sample_name, \n",
    "        derives_from = source)\n",
    "    sample_collection_process = Process(\n",
    "        name = \"samplecollection_{0}\".format(source_idx),\n",
    "        executes_protocol = sample_collection_protocol,\n",
    "        inputs = [source],\n",
    "        outputs = [sample])\n",
    "    investigation.studies[0].process_sequence.append(sample_collection_process)"
   ]
  },
  {
   "cell_type": "markdown",
   "metadata": {},
   "source": [
    "Add assays to study"
   ]
  },
  {
   "cell_type": "code",
   "execution_count": 10,
   "metadata": {},
   "outputs": [],
   "source": [
    "#investigation.studies[0].assays.append()"
   ]
  },
  {
   "cell_type": "markdown",
   "metadata": {},
   "source": [
    "Write ISA-Tab files"
   ]
  },
  {
   "cell_type": "code",
   "execution_count": 8,
   "metadata": {},
   "outputs": [
    {
     "data": {
      "text/plain": [
       "isatools.model.Investigation(identifier='', filename='i_investigation.txt', title='EATRIS-Plus - Flagship in Personalised Medicine', submission_date='', public_release_date='', ontology_source_references=[isatools.model.OntologySource(name='CHEBI - Chemical Entities of Biological Interest', file='http://purl.obolibrary.org/obo/chebi.owl', version='', description='A structured classification of molecular entities of biological interest focusing on 'small' chemical compounds.', comments=[]), isatools.model.OntologySource(name='CRO - Contributor Role Ontology', file='http://purl.obolibrary.org/obo/cro.owl', version='', description='A classification of the diverse roles performed in the work leading to a published research output in the sciences. Its purpose to provide transparency in contributions to scholarly published work, to enable improved systems of attribution, credit, and accountability.', comments=[]), isatools.model.OntologySource(name='EFO - Experimental Factor Ontology', file='http://www.ebi.ac.uk/efo/efo.owl', version='', description='The Experimental Factor Ontology (EFO) provides a systematic description of many experimental variables available in EBI databases, and for external projects such as the NHGRI GWAS catalogue. It combines parts of several biological ontologies, such as anatomy, disease and chemical compounds. The scope of EFO is to support the annotation, analysis and visualization of data handled by many groups at the EBI and as the core ontology for OpenTargets.org', comments=[]), isatools.model.OntologySource(name='MMO - Measurement method ontology', file='http://purl.obolibrary.org/obo/mmo.owl', version='', description='A representation of the variety of methods used to make clinical and phenotype measurements.', comments=[]), isatools.model.OntologySource(name='NCBI organismal classification', file='http://purl.obolibrary.org/obo/ncbitaxon.owl', version='', description='An ontology representation of the NCBI organismal taxonomy', comments=[]), isatools.model.OntologySource(name='NCI Thesaurus OBO Edition', file='http://purl.obolibrary.org/obo/ncit.owl', version='', description='The NCIt OBO Edition project aims to increase integration of the NCIt with OBO Library ontologies. NCIt is a reference terminology that includes broad coverage of the cancer domain, including cancer related diseases, findings and abnormalities. NCIt OBO Edition releases should be considered experimental.', comments=[]), isatools.model.OntologySource(name='OBI - Ontology for Biomedical Investigations', file='http://purl.obolibrary.org/obo/obi.owl', version='', description='An integrated ontology for the description of life-science and clinical investigations', comments=[]), isatools.model.OntologySource(name='Ontologized MIABIS', file='http://purl.obolibrary.org/obo/omiabis.owl', version='', description='An ontological version of MIABIS (Minimum Information About BIobank data Sharing)', comments=[]), isatools.model.OntologySource(name='PRIDE Controlled Vocabulary', file='http://purl.obolibrary.org/obo/pride_cv.obo', version='', description='The PRIDE PRoteomics IDEntifications (PRIDE) database is a centralized, standards compliant, public data repository for proteomics data, including protein and peptide identifications, post-translational modifications and supporting spectral evidence.', comments=[]), isatools.model.OntologySource(name='REX - Physico-chemical process', file='http://purl.obolibrary.org/obo/rex.owl', version='', description='An ontology of physico-chemical processes, i.e. physico-chemical changes occurring in course of time.', comments=[]), isatools.model.OntologySource(name='STATO: the statistical methods ontology', file='http://purl.obolibrary.org/obo/stato.owl', version='', description='STATO is the statistical methods ontology. It contains concepts and properties related to statistical methods, probability distributions and other concepts related to statistical analysis, including relationships to study designs and plots.', comments=[])], publications=[], contacts=[isatools.model.Person(last_name='Keidong', first_name='Eliis', mid_initials='', email='', phone='', fax='', address='', affiliation='EATRIS', roles=[isatools.model.OntologyAnnotation(term='project management role', term_source=isatools.model.OntologySource(name='CRO - Contributor Role Ontology', file='http://purl.obolibrary.org/obo/cro.owl', version='', description='A classification of the diverse roles performed in the work leading to a published research output in the sciences. Its purpose to provide transparency in contributions to scholarly published work, to enable improved systems of attribution, credit, and accountability.', comments=[]), term_accession='http://purl.obolibrary.org/obo/CRO_0000065', comments=[])], comments=[])], studies=[isatools.model.Study(filename='s_study.txt', identifier='', title='Multi-omics data of a Czech population cohort', description='Multi-omics data of a Czech population cohort', submission_date='', public_release_date='', contacts=[isatools.model.Person(last_name='Hajdúch', first_name='Marian', mid_initials='', email='', phone='', fax='', address='', affiliation='Institute of Molecular and Translational Medicine (IMTM), Palacký University Olomouc', roles=[], comments=[])], design_descriptors=[isatools.model.OntologyAnnotation(term='Multi-omics study', term_source=isatools.model.OntologySource(name='PRIDE Controlled Vocabulary', file='http://purl.obolibrary.org/obo/pride_cv.obo', version='', description='The PRIDE PRoteomics IDEntifications (PRIDE) database is a centralized, standards compliant, public data repository for proteomics data, including protein and peptide identifications, post-translational modifications and supporting spectral evidence.', comments=[]), term_accession='http://purl.obolibrary.org/obo/PRIDE_0000461', comments=[]), isatools.model.OntologyAnnotation(term='population based study design', term_source=isatools.model.OntologySource(name='Ontologized MIABIS', file='http://purl.obolibrary.org/obo/omiabis.owl', version='', description='An ontological version of MIABIS (Minimum Information About BIobank data Sharing)', comments=[]), term_accession='http://purl.obolibrary.org/obo/OMIABIS_0001022', comments=[])], publications=[], factors=[], protocols=[], assays=[], sources=[isatools.model.Source(name='individual_1', characteristics=[isatools.model.Characteristic(category=isatools.model.OntologyAnnotation(term='Organism', term_source=isatools.model.OntologySource(name='OBI - Ontology for Biomedical Investigations', file='http://purl.obolibrary.org/obo/obi.owl', version='', description='An integrated ontology for the description of life-science and clinical investigations', comments=[]), term_accession='http://purl.obolibrary.org/obo/OBI_0100026', comments=[]), value=isatools.model.OntologyAnnotation(term='Homo sapiens', term_source=isatools.model.OntologySource(name='NCBI organismal classification', file='http://purl.obolibrary.org/obo/ncbitaxon.owl', version='', description='An ontology representation of the NCBI organismal taxonomy', comments=[]), term_accession='http://purl.obolibrary.org/obo/NCBITaxon_9606', comments=[]), unit=None, comments=[])], comments=[]), isatools.model.Source(name='individual_2', characteristics=[isatools.model.Characteristic(category=isatools.model.OntologyAnnotation(term='Organism', term_source=isatools.model.OntologySource(name='OBI - Ontology for Biomedical Investigations', file='http://purl.obolibrary.org/obo/obi.owl', version='', description='An integrated ontology for the description of life-science and clinical investigations', comments=[]), term_accession='http://purl.obolibrary.org/obo/OBI_0100026', comments=[]), value=isatools.model.OntologyAnnotation(term='Homo sapiens', term_source=isatools.model.OntologySource(name='NCBI organismal classification', file='http://purl.obolibrary.org/obo/ncbitaxon.owl', version='', description='An ontology representation of the NCBI organismal taxonomy', comments=[]), term_accession='http://purl.obolibrary.org/obo/NCBITaxon_9606', comments=[]), unit=None, comments=[])], comments=[]), isatools.model.Source(name='individual_3', characteristics=[isatools.model.Characteristic(category=isatools.model.OntologyAnnotation(term='Organism', term_source=isatools.model.OntologySource(name='OBI - Ontology for Biomedical Investigations', file='http://purl.obolibrary.org/obo/obi.owl', version='', description='An integrated ontology for the description of life-science and clinical investigations', comments=[]), term_accession='http://purl.obolibrary.org/obo/OBI_0100026', comments=[]), value=isatools.model.OntologyAnnotation(term='Homo sapiens', term_source=isatools.model.OntologySource(name='NCBI organismal classification', file='http://purl.obolibrary.org/obo/ncbitaxon.owl', version='', description='An ontology representation of the NCBI organismal taxonomy', comments=[]), term_accession='http://purl.obolibrary.org/obo/NCBITaxon_9606', comments=[]), unit=None, comments=[])], comments=[])], samples=[], process_sequence=[isatools.model.Process(id=\"\". name=\"samplecollection_1\", executes_protocol=Protocol(\n",
       "    name=sample_collection_protocol\n",
       "    protocol_type=sample collection\n",
       "    uri=\n",
       "    version=\n",
       "    parameters=0 ProtocolParameter objects\n",
       "    components=0 OntologyAnnotation objects\n",
       "    comments=0 Comment objects\n",
       "), date=\"None\", performer=\"None\", inputs=[isatools.model.Source(name='individual_1', characteristics=[isatools.model.Characteristic(category=isatools.model.OntologyAnnotation(term='Organism', term_source=isatools.model.OntologySource(name='OBI - Ontology for Biomedical Investigations', file='http://purl.obolibrary.org/obo/obi.owl', version='', description='An integrated ontology for the description of life-science and clinical investigations', comments=[]), term_accession='http://purl.obolibrary.org/obo/OBI_0100026', comments=[]), value=isatools.model.OntologyAnnotation(term='Homo sapiens', term_source=isatools.model.OntologySource(name='NCBI organismal classification', file='http://purl.obolibrary.org/obo/ncbitaxon.owl', version='', description='An ontology representation of the NCBI organismal taxonomy', comments=[]), term_accession='http://purl.obolibrary.org/obo/NCBITaxon_9606', comments=[]), unit=None, comments=[])], comments=[])], outputs=[isatools.model.Sample(name='sample_1', characteristics=[], factor_values=[], derives_from=Source(\n",
       "    name=individual_1\n",
       "    characteristics=1 Characteristic objects\n",
       "    comments=0 Comment objects\n",
       "), comments=[])]), isatools.model.Process(id=\"\". name=\"samplecollection_2\", executes_protocol=Protocol(\n",
       "    name=sample_collection_protocol\n",
       "    protocol_type=sample collection\n",
       "    uri=\n",
       "    version=\n",
       "    parameters=0 ProtocolParameter objects\n",
       "    components=0 OntologyAnnotation objects\n",
       "    comments=0 Comment objects\n",
       "), date=\"None\", performer=\"None\", inputs=[isatools.model.Source(name='individual_2', characteristics=[isatools.model.Characteristic(category=isatools.model.OntologyAnnotation(term='Organism', term_source=isatools.model.OntologySource(name='OBI - Ontology for Biomedical Investigations', file='http://purl.obolibrary.org/obo/obi.owl', version='', description='An integrated ontology for the description of life-science and clinical investigations', comments=[]), term_accession='http://purl.obolibrary.org/obo/OBI_0100026', comments=[]), value=isatools.model.OntologyAnnotation(term='Homo sapiens', term_source=isatools.model.OntologySource(name='NCBI organismal classification', file='http://purl.obolibrary.org/obo/ncbitaxon.owl', version='', description='An ontology representation of the NCBI organismal taxonomy', comments=[]), term_accession='http://purl.obolibrary.org/obo/NCBITaxon_9606', comments=[]), unit=None, comments=[])], comments=[])], outputs=[isatools.model.Sample(name='sample_2', characteristics=[], factor_values=[], derives_from=Source(\n",
       "    name=individual_2\n",
       "    characteristics=1 Characteristic objects\n",
       "    comments=0 Comment objects\n",
       "), comments=[])]), isatools.model.Process(id=\"\". name=\"samplecollection_3\", executes_protocol=Protocol(\n",
       "    name=sample_collection_protocol\n",
       "    protocol_type=sample collection\n",
       "    uri=\n",
       "    version=\n",
       "    parameters=0 ProtocolParameter objects\n",
       "    components=0 OntologyAnnotation objects\n",
       "    comments=0 Comment objects\n",
       "), date=\"None\", performer=\"None\", inputs=[isatools.model.Source(name='individual_3', characteristics=[isatools.model.Characteristic(category=isatools.model.OntologyAnnotation(term='Organism', term_source=isatools.model.OntologySource(name='OBI - Ontology for Biomedical Investigations', file='http://purl.obolibrary.org/obo/obi.owl', version='', description='An integrated ontology for the description of life-science and clinical investigations', comments=[]), term_accession='http://purl.obolibrary.org/obo/OBI_0100026', comments=[]), value=isatools.model.OntologyAnnotation(term='Homo sapiens', term_source=isatools.model.OntologySource(name='NCBI organismal classification', file='http://purl.obolibrary.org/obo/ncbitaxon.owl', version='', description='An ontology representation of the NCBI organismal taxonomy', comments=[]), term_accession='http://purl.obolibrary.org/obo/NCBITaxon_9606', comments=[]), unit=None, comments=[])], comments=[])], outputs=[isatools.model.Sample(name='sample_3', characteristics=[], factor_values=[], derives_from=Source(\n",
       "    name=individual_3\n",
       "    characteristics=1 Characteristic objects\n",
       "    comments=0 Comment objects\n",
       "), comments=[])])], other_material=[], characteristic_categories=[], comments=[], units=[])], comments=[])"
      ]
     },
     "execution_count": 8,
     "metadata": {},
     "output_type": "execute_result"
    }
   ],
   "source": [
    "# create output directory\n",
    "import os\n",
    "out_dir = \".\"\n",
    "if not os.path.isdir(out_dir):\n",
    "    os.makedirs(out_dir)\n",
    "# write to ISA-Tab\n",
    "from isatools import isatab\n",
    "isatab.dump(investigation, out_dir)"
   ]
  },
  {
   "cell_type": "code",
   "execution_count": 9,
   "metadata": {},
   "outputs": [],
   "source": [
    "# write to ISA-JSON\n",
    "import json\n",
    "from isatools.isajson import ISAJSONEncoder\n",
    "with open(os.path.join(out_dir, \"isa.json\"), \"w\") as out_file:\n",
    "    json.dumps(investigation, \n",
    "               cls = ISAJSONEncoder, \n",
    "               sort_keys = True, \n",
    "               indent = 4, \n",
    "               separators = (',', ': '))"
   ]
  }
 ],
 "metadata": {
  "kernelspec": {
   "display_name": "py3isa",
   "language": "python",
   "name": "py3isa"
  },
  "language_info": {
   "codemirror_mode": {
    "name": "ipython",
    "version": 3
   },
   "file_extension": ".py",
   "mimetype": "text/x-python",
   "name": "python",
   "nbconvert_exporter": "python",
   "pygments_lexer": "ipython3",
   "version": "3.9.6"
  }
 },
 "nbformat": 4,
 "nbformat_minor": 2
}
